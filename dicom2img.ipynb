{
 "cells": [
  {
   "cell_type": "code",
   "execution_count": 144,
   "metadata": {},
   "outputs": [
    {
     "name": "stdout",
     "output_type": "stream",
     "text": [
      "HNC-1  Untitled.ipynb  VGHTC  data  data_img  dataset.ipynb\n"
     ]
    }
   ],
   "source": [
    "! ls"
   ]
  },
  {
   "cell_type": "code",
   "execution_count": 145,
   "metadata": {},
   "outputs": [],
   "source": [
    "import glob\n",
    "import multiprocessing as mp\n",
    "import os\n",
    "import re\n",
    "import zipfile\n",
    "\n",
    "import matplotlib.pyplot as plt\n",
    "import numpy as np\n",
    "import pydicom\n",
    "from matplotlib.image import imsave as imgSave\n",
    "from PIL import Image, ImageDraw\n"
   ]
  },
  {
   "cell_type": "code",
   "execution_count": 146,
   "metadata": {},
   "outputs": [
    {
     "data": {
      "text/plain": [
       "['037']"
      ]
     },
     "execution_count": 146,
     "metadata": {},
     "output_type": "execute_result"
    }
   ],
   "source": [
    "string = 'HNNLAP-037'\n",
    "re.findall( '[0-9]{3}$', string )\n"
   ]
  },
  {
   "cell_type": "code",
   "execution_count": 147,
   "metadata": {},
   "outputs": [
    {
     "data": {
      "text/plain": [
       "\"# unzip\\nzip_folder_path = os.path.join( '.', 'data' )\\n\\nfor zip_path in glob.glob( os.path.join( zip_folder_path, '*.zip' ) ):\\n    file_name = re.split( '\\\\.|/|\\\\\\\\', glob.glob( os.path.join( '.', 'data', '*.zip' ) )[ 0 ] )[ -2 ]\\n    with zipfile.ZipFile( zip_path, 'r' ) as zip_ref:\\n        zip_ref.extractall( os.path.join( zip_folder_path, file_name ) )\\n\""
      ]
     },
     "execution_count": 147,
     "metadata": {},
     "output_type": "execute_result"
    }
   ],
   "source": [
    "\"\"\"# unzip\n",
    "zip_folder_path = os.path.join( '.', 'data' )\n",
    "\n",
    "for zip_path in glob.glob( os.path.join( zip_folder_path, '*.zip' ) ):\n",
    "    file_name = re.split( '\\.|/|\\\\\\\\', glob.glob( os.path.join( '.', 'data', '*.zip' ) )[ 0 ] )[ -2 ]\n",
    "    with zipfile.ZipFile( zip_path, 'r' ) as zip_ref:\n",
    "        zip_ref.extractall( os.path.join( zip_folder_path, file_name ) )\n",
    "\"\"\""
   ]
  },
  {
   "cell_type": "code",
   "execution_count": 148,
   "metadata": {},
   "outputs": [],
   "source": [
    "def convert_mm_to_pixel( di_ipp, di_iop, di_ps, contourData ):\n",
    "    matrix_im = np.array(\n",
    "        [\n",
    "            [ di_iop[ 0 ] * di_ps[ 0 ], di_iop[ 3 ] * di_ps[ 1 ],\n",
    "              np.finfo( np.float16 ).tiny, di_ipp[ 0 ] ],\n",
    "            [ di_iop[ 1 ] * di_ps[ 0 ], di_iop[ 4 ] * di_ps[ 1 ],\n",
    "              np.finfo( np.float16 ).tiny, di_ipp[ 1 ] ],\n",
    "            [ di_iop[ 2 ] * di_ps[ 0 ], di_iop[ 5 ] * di_ps[ 1 ],\n",
    "              np.finfo( np.float16 ).tiny, di_ipp[ 2 ] ], [ 0, 0, 0, 1 ]\n",
    "        ] )\n",
    "    inv_matrix_im = np.linalg.inv( matrix_im )\n",
    "    contour_px = []\n",
    "\n",
    "    for index, v in enumerate( [ contourData[ i:i + 3 ] for i in range( 0, len( contourData ), 3 ) ] ):\n",
    "        v.append( 1 )\n",
    "        i, j, trash, trash = [ int( np.around( i ) ) for i in inv_matrix_im.dot( np.array( v ) ) ]\n",
    "        contour_px.append( ( i, j ) )\n",
    "\n",
    "    return contour_px"
   ]
  },
  {
   "cell_type": "code",
   "execution_count": 149,
   "metadata": {},
   "outputs": [],
   "source": [
    "def coutours_img( contourData_px, shape, mode: int = 0 ):\n",
    "    img = Image.new( 'L', shape, 0 )\n",
    "    if mode == 0:\n",
    "        ImageDraw.Draw( img ).polygon( contourData_px, outline=1, fill=1 )\n",
    "    elif mode == 1:\n",
    "        ImageDraw.Draw( img ).polygon( contourData_px, outline=1, fill=2 )\n",
    "        ImageDraw.Draw( img ).line( contourData_px, fill=1, width=6 )\n",
    "    return img"
   ]
  },
  {
   "cell_type": "code",
   "execution_count": 150,
   "metadata": {},
   "outputs": [],
   "source": [
    "def mk_loc_and_show_image( data: dict, person: str, mode: int = 0 ):\n",
    "    \"\"\"0 : only loc, 1 : img, 2 : img & mask\"\"\"\n",
    "    if mode == 0:\n",
    "        for index, uid_and_loc in enumerate( sorted( data.items(), key=lambda x: x[ 1 ][ 'slice' ] ) ):\n",
    "            data[ uid_and_loc[ 0 ] ][ 'loc' ] = index\n",
    "\n",
    "    elif mode == 1:\n",
    "        height = len( data.items() ) // 4 + 1\n",
    "        size = 6\n",
    "        fig = plt.figure( figsize=( 4 * size, height * size ) )  # width height\n",
    "\n",
    "        for index, uid_and_loc in enumerate( sorted( data.items(), key=lambda x: x[ 1 ][ 'slice' ] ) ):\n",
    "            data[ uid_and_loc[ 0 ] ][ 'loc' ] = index\n",
    "\n",
    "            plt.subplot( height, 4, index + 1 )\n",
    "            plt.imshow( data[ uid_and_loc[ 0 ] ][ \"ctpx\" ], cmap=plt.cm.bone )\n",
    "            plt.axis( 'on' )\n",
    "        plt.suptitle( person )\n",
    "        plt.show()\n",
    "\n",
    "    elif mode == 2:\n",
    "        height = len( data.items() ) * 2 // 4 + 1\n",
    "        size = 6\n",
    "        fig = plt.figure( figsize=( 4 * size, height * size ) )  # width height\n",
    "\n",
    "        for index, uid_and_loc in enumerate( sorted( data.items(), key=lambda x: x[ 1 ][ 'slice' ] ) ):\n",
    "            data[ uid_and_loc[ 0 ] ][ 'loc' ] = index\n",
    "\n",
    "            plt.subplot( height, 4, 2 * index + 1 )\n",
    "            plt.imshow( data[ uid_and_loc[ 0 ] ][ \"ctpx\" ], cmap=plt.cm.bone )\n",
    "\n",
    "            plt.subplot( height, 4, 2 * index + 2 )\n",
    "            plt.imshow( data[ uid_and_loc[ 0 ] ][ \"maskpx\" ], cmap=plt.cm.gray )\n",
    "            plt.axis( 'on' )\n",
    "        plt.show()\n",
    "\n",
    "    elif mode == 3:\n",
    "        height = len( data.items() ) * 2 // 4 + 1\n",
    "        size = 6\n",
    "        fig = plt.figure( figsize=( 4 * size, height * size ) )  # width height\n",
    "\n",
    "        for index, uid_and_loc in enumerate( sorted( data.items(), key=lambda x: x[ 1 ][ 'slice' ] ) ):\n",
    "            data[ uid_and_loc[ 0 ] ][ 'loc' ] = index\n",
    "\n",
    "            plt.subplot( height, 4, 2 * index + 1 )\n",
    "            plt.title( f\"{person}_{index}_img\" )\n",
    "            plt.imshow( data[ uid_and_loc[ 0 ] ][ \"ctpx\" ], cmap=plt.cm.bone )\n",
    "\n",
    "            plt.subplot( height, 4, 2 * index + 2 )\n",
    "            plt.title( f\"{person}_{index}_mask\" )\n",
    "            plt.imshow( data[ uid_and_loc[ 0 ] ][ \"maskpx\" ], cmap=plt.cm.gray )\n",
    "            plt.axis( 'on' )\n",
    "        plt.show()"
   ]
  },
  {
   "cell_type": "code",
   "execution_count": 151,
   "metadata": {},
   "outputs": [],
   "source": [
    "def save_dataset( data, savePath, person, mode: int = 0 ):\n",
    "    os.makedirs( savePath, exist_ok=True )\n",
    "    for uid, d in data.items():\n",
    "        #print( uid )\n",
    "        if mode == 0:\n",
    "            Image.fromarray( d[ 'ctpx' ] ).save( os.path.join( savePath, f\"{person}_{d[ 'loc' ]:03}_{d['label']:d}_ct.png\" ), 'PNG' )\n",
    "            d[ 'maskpx' ].save( os.path.join( savePath, f\"{person}_{d[ 'loc' ]:03}_{d['label']:d}_mask.png\" ), 'PNG' )"
   ]
  },
  {
   "cell_type": "code",
   "execution_count": 152,
   "metadata": {},
   "outputs": [],
   "source": [
    "def process_data( path, dicom_ds: pydicom.dataset.FileDataset, person, showMode: int = 0 ):\n",
    "    \"\"\"showMode -> 0 : only loc, 1 : img, 2 : img & mask\"\"\"\n",
    "    ContourImageSequence_from_ds = dicom_ds.ReferencedFrameOfReferenceSequence[ 0 ].RTReferencedStudySequence[\n",
    "        0 ].RTReferencedSeriesSequence[ 0 ].ContourImageSequence\n",
    "    number_ct = len( ContourImageSequence_from_ds )\n",
    "\n",
    "    data = {}\n",
    "\n",
    "    for index, ct_id in enumerate( [ ContourImageSequence_from_ds[ i ].ReferencedSOPInstanceUID for i in range( number_ct ) ] ):\n",
    "        #print( ct_id )\n",
    "        ds = pydicom.dcmread( os.path.join( path, 'CT.' + ct_id + \".dcm\" ) )\n",
    "        uid = ds.SOPInstanceUID\n",
    "        if ( uid != ct_id ): print( 'uneq' )\n",
    "\n",
    "        data[ uid ] = {\n",
    "            'slice': ds.SliceLocation,\n",
    "            'loc': None,\n",
    "            'spacing': ds.PixelSpacing,\n",
    "            'position': ds.ImagePositionPatient,\n",
    "            'orientation': ds.ImageOrientationPatient,\n",
    "            'ctpx': ds.pixel_array,\n",
    "            'label': False,\n",
    "            'mask': None,\n",
    "            'maskT': None,\n",
    "            'maskpx': Image.new( 'L', ds.pixel_array.shape, 0 )\n",
    "        }\n",
    "\n",
    "    for i in range( len( dicom_ds.StructureSetROISequence ) ):\n",
    "        if dicom_ds.StructureSetROISequence[ i ].ROIName == \"LAP\":\n",
    "            #print(len(dicom_ds.ROIContourSequence),i)\n",
    "            for seq in dicom_ds.ROIContourSequence[ i ].ContourSequence:\n",
    "                ruid = seq.ContourImageSequence[ 0 ].ReferencedSOPInstanceUID\n",
    "                data[ ruid ][ 'mask' ] = arr_mm = seq.ContourData\n",
    "                data[ ruid ][ 'label' ] = True\n",
    "                #point data\n",
    "                data[ ruid ][ 'maskT' ] = arr_pixel = convert_mm_to_pixel(\n",
    "                    data[ ruid ][ 'position' ], data[ ruid ][ 'orientation' ], data[ ruid ][ 'spacing' ], arr_mm )\n",
    "                data[ ruid ][ 'maskpx' ] = coutours_img( arr_pixel, data[ ruid ][ 'ctpx' ].shape )\n",
    "                #print(type(px))\n",
    "        else:\n",
    "            #print(dicom_ds.StructureSetROISequence[ i ].ROIName)\n",
    "            pass\n",
    "\n",
    "    mk_loc_and_show_image( data=data, person=person, mode=showMode )\n",
    "    #save_dataset( data=data, savePath='./vghtc_contours_data/train', person=PERSON )  # have uo use in hight level\n",
    "    return data\n"
   ]
  },
  {
   "cell_type": "code",
   "execution_count": 153,
   "metadata": {},
   "outputs": [],
   "source": [
    "def load_folder( path, savePath, split: int = 25, mode: tuple = ( 0, 0 ), multiprocess: bool = True ):\n",
    "    \"\"\"mode -> ( save, show)\"\"\"\n",
    "    os.makedirs( savePath, exist_ok=True )\n",
    "\n",
    "    def single_task( folder_path ):\n",
    "        person = re.findall( '[0-9]{3}$', folder_path.split( os.sep )[ -1 ] )[ 0 ]\n",
    "        print( person )\n",
    "\n",
    "        save_path = savePath # os.path.join( savePath, 'test' if int( person ) > 25 else 'train' )\n",
    "\n",
    "        for rt_name in glob.glob( os.path.join( folder_path, 'RS*.dcm' ) ):\n",
    "            dicom_ds = pydicom.dcmread( rt_name )\n",
    "            if ( dicom_ds.Modality != \"RTSTRUCT\" ):\n",
    "                raise TypeError( 'dicom_ds.Modality != RTSTRUCT' )\n",
    "            if 'LAP' not in [ StructureSetROI.ROIName for StructureSetROI in dicom_ds.StructureSetROISequence ]:\n",
    "                print( f\"rt file {rt_name} without LAP contours\" )\n",
    "                continue\n",
    "\n",
    "            data = process_data( path=folder_path, dicom_ds=dicom_ds, person=person, showMode=mode[ 1 ] )\n",
    "            save_dataset( data=data, savePath=save_path, person=person, mode=mode[ 0 ] )\n",
    "\n",
    "    if multiprocess is True:\n",
    "        print( 'multi processing on' )\n",
    "        cpu_count = mp.cpu_count()\n",
    "        print( \"cpu_count: \", cpu_count )\n",
    "        process_list = []\n",
    "        for folder_path in glob.glob( os.path.join( path, '*' ) ):\n",
    "            process_list.append( mp.Process( target=single_task, args=( folder_path, ) ) )\n",
    "            process_list[ -1 ].start()\n",
    "\n",
    "    else:\n",
    "        print( 'single processing on' )\n",
    "        for folder_path in glob.glob( os.path.join( path, '*' ) ):\n",
    "            single_task( folder_path=folder_path )\n"
   ]
  },
  {
   "cell_type": "code",
   "execution_count": 154,
   "metadata": {},
   "outputs": [],
   "source": [
    "# process_data( './data/vghtc/023', pydicom.dcmread( glob.glob( os.path.join( './data/vghtc/023', 'RS*' ) )[ 0 ] ), 0 )\n"
   ]
  },
  {
   "cell_type": "code",
   "execution_count": 155,
   "metadata": {},
   "outputs": [
    {
     "name": "stdout",
     "output_type": "stream",
     "text": [
      "multi processing on\n",
      "cpu_count:  32\n",
      "022\n",
      "046\n",
      "045\n",
      "004\n",
      "015\n",
      "027\n",
      "039\n",
      "042\n",
      "023\n",
      "029\n",
      "057\n",
      "053\n",
      "028\n",
      "026\n",
      "019\n",
      "012\n",
      "055\n",
      "007\n",
      "013\n",
      "020\n",
      "016\n",
      "049\n",
      "030\n",
      "035\n",
      "011\n",
      "014\n",
      "054\n",
      "050\n",
      "018\n",
      "024\n",
      "008\n",
      "048\n",
      "021\n",
      "006\n",
      "051\n",
      "033\n",
      "036\n",
      "017\n",
      "005\n",
      "038\n",
      "003\n",
      "002\n",
      "043\n",
      "001\n",
      "rt file ./data/vghtc/001/RS.1.2.246.352.221.478677787149761761413858561478778497710.dcm without LAP contours\n",
      "047\n",
      "044\n",
      "058\n",
      "rt file ./data/vghtc/HNNLAP-044/RS.1.2.246.352.221.564349196323003941117297893638696200356.dcm without LAP contours\n",
      "037\n",
      "032\n",
      "056\n",
      "009\n",
      "031\n",
      "025\n",
      "040\n",
      "010\n",
      "034\n",
      "052\n",
      "041\n"
     ]
    }
   ],
   "source": [
    "data_from = 'vghtc'\n",
    "data_dicom_folder = os.path.join( '.', 'data', data_from )\n",
    "data_img_folder = os.path.join( '.', 'data_img', data_from )\n",
    "load_folder( path=data_dicom_folder, savePath=data_img_folder, mode=( 0, 0 ), multiprocess=True )\n"
   ]
  },
  {
   "cell_type": "code",
   "execution_count": null,
   "metadata": {},
   "outputs": [],
   "source": []
  }
 ],
 "metadata": {
  "kernelspec": {
   "display_name": "Python 3",
   "language": "python",
   "name": "python3"
  },
  "language_info": {
   "codemirror_mode": {
    "name": "ipython",
    "version": 3
   },
   "file_extension": ".py",
   "mimetype": "text/x-python",
   "name": "python",
   "nbconvert_exporter": "python",
   "pygments_lexer": "ipython3",
   "version": "3.6.9"
  },
  "orig_nbformat": 4
 },
 "nbformat": 4,
 "nbformat_minor": 2
}

{
 "cells": [
  {
   "cell_type": "code",
   "execution_count": 1,
   "id": "e05bd589-cd47-4204-bd99-68498aec4123",
   "metadata": {},
   "outputs": [],
   "source": [
    "import os\n",
    "from typing import Dict, Iterable, List, Union\n",
    "import json\n",
    "\n",
    "import torch\n",
    "import torch.nn as nn\n",
    "import torchvision.transforms as xfmr\n",
    "from data.dataset import LAPsDatasetNode\n",
    "from model.dualnet import DLNN\n",
    "from model.resnet import DualResNet, generate_ResNet\n",
    "from torch.utils.data import DataLoader\n",
    "from train_utils import train_flow_valid_test"
   ]
  },
  {
   "cell_type": "code",
   "execution_count": 2,
   "id": "735aec98-dc85-4e1f-8d28-6324940a3bd7",
   "metadata": {},
   "outputs": [
    {
     "name": "stdout",
     "output_type": "stream",
     "text": [
      "device 0 NVIDIA GeForce RTX 2080 Ti\n"
     ]
    }
   ],
   "source": [
    "torch.cuda.set_device(0)\n",
    "device = torch.device(\"cuda\" if torch.cuda.is_available() else \"cpu\")\n",
    "print(\"device\", torch.cuda.current_device(), torch.cuda.get_device_name(torch.cuda.current_device()))"
   ]
  },
  {
   "cell_type": "code",
   "execution_count": null,
   "id": "176ef131-5f4f-4e88-b64a-8bfc686648d8",
   "metadata": {},
   "outputs": [
    {
     "name": "stdout",
     "output_type": "stream",
     "text": [
      "read data folder : ./data/laps/ex5/size-preserved\n",
      "load 341 Lymph Node images\n",
      "balanced to 1:1, training Lymph Nodes from 238 to 330\n",
      "\n",
      "LNMsets   LNM-    LNM+ENE-  LNM+ENE+   inPhase \n",
      "trains     165       35        38        238    \n",
      "valids     24         5         6        35     \n",
      "tests      48        10        10        68     \n",
      "total      237       50        54        341   \n",
      "\n",
      "ENEsets   LNM-    LNM+ENE-  LNM+ENE+   inPhase \n",
      "trains      0        35        38        73     \n",
      "valids      0         5         6        11     \n",
      "tests       0        10        10        20     \n",
      "total       0        50        54        104   \n",
      "\n"
     ]
    },
    {
     "data": {
      "application/json": {
       "ascii": false,
       "bar_format": null,
       "colour": null,
       "elapsed": 0.025738239288330078,
       "initial": 0,
       "n": 0,
       "ncols": null,
       "nrows": 30,
       "postfix": null,
       "prefix": "",
       "rate": null,
       "total": 500,
       "unit": "it",
       "unit_divisor": 1000,
       "unit_scale": false
      },
      "application/vnd.jupyter.widget-view+json": {
       "model_id": "c234b75689bb463dbc67fd0084fd810b",
       "version_major": 2,
       "version_minor": 0
      },
      "text/plain": [
       "  0%|          | 0/500 [00:00<?, ?it/s]"
      ]
     },
     "metadata": {},
     "output_type": "display_data"
    },
    {
     "data": {
      "application/json": {
       "ascii": false,
       "bar_format": null,
       "colour": null,
       "elapsed": 0.035643577575683594,
       "initial": 0,
       "n": 0,
       "ncols": null,
       "nrows": 30,
       "postfix": null,
       "prefix": "",
       "rate": null,
       "total": 21,
       "unit": "it",
       "unit_divisor": 1000,
       "unit_scale": false
      },
      "application/vnd.jupyter.widget-view+json": {
       "model_id": "",
       "version_major": 2,
       "version_minor": 0
      },
      "text/plain": [
       "  0%|          | 0/21 [00:00<?, ?it/s]"
      ]
     },
     "metadata": {},
     "output_type": "display_data"
    },
    {
     "data": {
      "application/json": {
       "ascii": false,
       "bar_format": null,
       "colour": null,
       "elapsed": 0.0508880615234375,
       "initial": 0,
       "n": 0,
       "ncols": null,
       "nrows": 30,
       "postfix": null,
       "prefix": "",
       "rate": null,
       "total": 21,
       "unit": "it",
       "unit_divisor": 1000,
       "unit_scale": false
      },
      "application/vnd.jupyter.widget-view+json": {
       "model_id": "",
       "version_major": 2,
       "version_minor": 0
      },
      "text/plain": [
       "  0%|          | 0/21 [00:00<?, ?it/s]"
      ]
     },
     "metadata": {},
     "output_type": "display_data"
    },
    {
     "data": {
      "application/json": {
       "ascii": false,
       "bar_format": null,
       "colour": null,
       "elapsed": 0.05655264854431152,
       "initial": 0,
       "n": 0,
       "ncols": null,
       "nrows": 30,
       "postfix": null,
       "prefix": "",
       "rate": null,
       "total": 21,
       "unit": "it",
       "unit_divisor": 1000,
       "unit_scale": false
      },
      "application/vnd.jupyter.widget-view+json": {
       "model_id": "8685750c151a4d8d99f81efef91653f9",
       "version_major": 2,
       "version_minor": 0
      },
      "text/plain": [
       "  0%|          | 0/21 [00:00<?, ?it/s]"
      ]
     },
     "metadata": {},
     "output_type": "display_data"
    }
   ],
   "source": [
    "for mParam in [10,34,50]:\n",
    "    for lr in [5e-4,1e-3,2e-3,4e-3,8e-3]:\n",
    "        train_flow_valid_test(device, \"rn\", mParam, prefixDir=\"./testflow\", exps=5, lr=lr)"
   ]
  },
  {
   "cell_type": "code",
   "execution_count": null,
   "id": "0fd8f63a-756d-430c-b64b-3378ba7c877a",
   "metadata": {},
   "outputs": [],
   "source": []
  }
 ],
 "metadata": {
  "kernelspec": {
   "display_name": "med+tfb",
   "language": "python",
   "name": "med_tfboard"
  },
  "language_info": {
   "codemirror_mode": {
    "name": "ipython",
    "version": 3
   },
   "file_extension": ".py",
   "mimetype": "text/x-python",
   "name": "python",
   "nbconvert_exporter": "python",
   "pygments_lexer": "ipython3",
   "version": "3.9.12"
  },
  "widgets": {
   "application/vnd.jupyter.widget-state+json": {
    "state": {
     "13b14c0d35254630bc0442db073564bd": {
      "model_module": "@jupyter-widgets/controls",
      "model_module_version": "2.0.0",
      "model_name": "HTMLModel",
      "state": {
       "layout": "IPY_MODEL_c96070f9faaa42748250905b0e2781ed",
       "style": "IPY_MODEL_c918b0f1f779463ea573559a079b999f",
       "value": "Epoch3, t_l: 0.6078:  52%"
      }
     },
     "187d53187c584afe81c0c9051445e9c7": {
      "model_module": "@jupyter-widgets/controls",
      "model_module_version": "2.0.0",
      "model_name": "HTMLStyleModel",
      "state": {
       "description_width": "",
       "font_size": null,
       "text_color": null
      }
     },
     "1f7a8623745940b6aaf6dea02c7d64d6": {
      "model_module": "@jupyter-widgets/controls",
      "model_module_version": "2.0.0",
      "model_name": "FloatProgressModel",
      "state": {
       "layout": "IPY_MODEL_f926f1b8e115448c92614d930d3c919b",
       "max": 21,
       "style": "IPY_MODEL_57bfed0a3f504cb08005645247fc2187",
       "value": 21
      }
     },
     "20dbc2ac45cf4bfead70a9342fb3e050": {
      "model_module": "@jupyter-widgets/controls",
      "model_module_version": "2.0.0",
      "model_name": "ProgressStyleModel",
      "state": {
       "description_width": ""
      }
     },
     "27266988edd84a66ba82df4f702389de": {
      "model_module": "@jupyter-widgets/base",
      "model_module_version": "2.0.0",
      "model_name": "LayoutModel",
      "state": {}
     },
     "2d2e827858684f928892f303eb973e0c": {
      "model_module": "@jupyter-widgets/base",
      "model_module_version": "2.0.0",
      "model_name": "LayoutModel",
      "state": {}
     },
     "32374b871ffd4edbab11d5e65d9a0de8": {
      "model_module": "@jupyter-widgets/base",
      "model_module_version": "2.0.0",
      "model_name": "LayoutModel",
      "state": {}
     },
     "33ca6fa5a4114e299667a32ba58b32fb": {
      "model_module": "@jupyter-widgets/controls",
      "model_module_version": "2.0.0",
      "model_name": "HTMLStyleModel",
      "state": {
       "description_width": "",
       "font_size": null,
       "text_color": null
      }
     },
     "3b6f424831ba44079b3af1b6b8d26790": {
      "model_module": "@jupyter-widgets/base",
      "model_module_version": "2.0.0",
      "model_name": "LayoutModel",
      "state": {}
     },
     "455129ec7d8f4dc780bad44b2d2f45b8": {
      "model_module": "@jupyter-widgets/base",
      "model_module_version": "2.0.0",
      "model_name": "LayoutModel",
      "state": {}
     },
     "49e54b576d6248fb988fb7c57b5ea04f": {
      "model_module": "@jupyter-widgets/base",
      "model_module_version": "2.0.0",
      "model_name": "LayoutModel",
      "state": {}
     },
     "4f3983cc032c467c831ad775f5b599be": {
      "model_module": "@jupyter-widgets/controls",
      "model_module_version": "2.0.0",
      "model_name": "HTMLModel",
      "state": {
       "layout": "IPY_MODEL_74f83aa970f84f32aa6f902913f2f274",
       "style": "IPY_MODEL_9543a8ea2d6347b0916559b55b7d9683",
       "value": " 11/21 [00:01&lt;00:01,  7.88it/s]"
      }
     },
     "53c9a1f044d043bbadf8403be0af2e72": {
      "model_module": "@jupyter-widgets/base",
      "model_module_version": "2.0.0",
      "model_name": "LayoutModel",
      "state": {}
     },
     "57bfed0a3f504cb08005645247fc2187": {
      "model_module": "@jupyter-widgets/controls",
      "model_module_version": "2.0.0",
      "model_name": "ProgressStyleModel",
      "state": {
       "description_width": ""
      }
     },
     "5f42a8c8962c4e5f96a7348e7c4c08cf": {
      "model_module": "@jupyter-widgets/controls",
      "model_module_version": "2.0.0",
      "model_name": "ProgressStyleModel",
      "state": {
       "description_width": ""
      }
     },
     "652d2af6e6fa495e83160d02494de168": {
      "model_module": "@jupyter-widgets/base",
      "model_module_version": "2.0.0",
      "model_name": "LayoutModel",
      "state": {}
     },
     "74f83aa970f84f32aa6f902913f2f274": {
      "model_module": "@jupyter-widgets/base",
      "model_module_version": "2.0.0",
      "model_name": "LayoutModel",
      "state": {}
     },
     "78c3b471f7414cde935093fd1be74310": {
      "model_module": "@jupyter-widgets/controls",
      "model_module_version": "2.0.0",
      "model_name": "HTMLStyleModel",
      "state": {
       "description_width": "",
       "font_size": null,
       "text_color": null
      }
     },
     "78eda2fc675649a583df758f3174d6c4": {
      "model_module": "@jupyter-widgets/controls",
      "model_module_version": "2.0.0",
      "model_name": "FloatProgressModel",
      "state": {
       "layout": "IPY_MODEL_32374b871ffd4edbab11d5e65d9a0de8",
       "max": 500,
       "style": "IPY_MODEL_8b35305e28b744a588e233f99fe16f7f",
       "value": 2
      }
     },
     "7b0a4eca84c54fd1bdcad04c4fceff0f": {
      "model_module": "@jupyter-widgets/controls",
      "model_module_version": "2.0.0",
      "model_name": "HTMLModel",
      "state": {
       "layout": "IPY_MODEL_53c9a1f044d043bbadf8403be0af2e72",
       "style": "IPY_MODEL_eed7a66ea01e44a395faea503b02761c",
       "value": "Epoch1, t_l: 0.4441, v_l:40.3670: 100%"
      }
     },
     "8685750c151a4d8d99f81efef91653f9": {
      "model_module": "@jupyter-widgets/controls",
      "model_module_version": "2.0.0",
      "model_name": "HBoxModel",
      "state": {
       "children": [
        "IPY_MODEL_13b14c0d35254630bc0442db073564bd",
        "IPY_MODEL_d1e4ef1182a9438390592067830fb3cd",
        "IPY_MODEL_4f3983cc032c467c831ad775f5b599be"
       ],
       "layout": "IPY_MODEL_ebd4757a48fd411a91c41cddb711ed23"
      }
     },
     "8b35305e28b744a588e233f99fe16f7f": {
      "model_module": "@jupyter-widgets/controls",
      "model_module_version": "2.0.0",
      "model_name": "ProgressStyleModel",
      "state": {
       "description_width": ""
      }
     },
     "923d1db961064672b4e134599ccdc79c": {
      "model_module": "@jupyter-widgets/controls",
      "model_module_version": "2.0.0",
      "model_name": "HTMLModel",
      "state": {
       "layout": "IPY_MODEL_27266988edd84a66ba82df4f702389de",
       "style": "IPY_MODEL_78c3b471f7414cde935093fd1be74310",
       "value": " 21/21 [00:06&lt;00:00,  1.07s/it]"
      }
     },
     "9543a8ea2d6347b0916559b55b7d9683": {
      "model_module": "@jupyter-widgets/controls",
      "model_module_version": "2.0.0",
      "model_name": "HTMLStyleModel",
      "state": {
       "description_width": "",
       "font_size": null,
       "text_color": null
      }
     },
     "976685ffb6a448a7b7d12aa77d280df8": {
      "model_module": "@jupyter-widgets/controls",
      "model_module_version": "2.0.0",
      "model_name": "HTMLStyleModel",
      "state": {
       "description_width": "",
       "font_size": null,
       "text_color": null
      }
     },
     "9dcb9f1c11fb4845a9043ee8e9e440b3": {
      "model_module": "@jupyter-widgets/controls",
      "model_module_version": "2.0.0",
      "model_name": "FloatProgressModel",
      "state": {
       "layout": "IPY_MODEL_652d2af6e6fa495e83160d02494de168",
       "max": 21,
       "style": "IPY_MODEL_20dbc2ac45cf4bfead70a9342fb3e050",
       "value": 21
      }
     },
     "9f9ac609edb5481bae22cff150420ce1": {
      "model_module": "@jupyter-widgets/controls",
      "model_module_version": "2.0.0",
      "model_name": "HTMLStyleModel",
      "state": {
       "description_width": "",
       "font_size": null,
       "text_color": null
      }
     },
     "a71f0e537d174310b281e298183d2e87": {
      "model_module": "@jupyter-widgets/base",
      "model_module_version": "2.0.0",
      "model_name": "LayoutModel",
      "state": {}
     },
     "b288f2efbdfd4e189e1fcbecb613f45a": {
      "model_module": "@jupyter-widgets/base",
      "model_module_version": "2.0.0",
      "model_name": "LayoutModel",
      "state": {}
     },
     "b5e8919bc41840179885589a5377e383": {
      "model_module": "@jupyter-widgets/base",
      "model_module_version": "2.0.0",
      "model_name": "LayoutModel",
      "state": {}
     },
     "c234b75689bb463dbc67fd0084fd810b": {
      "model_module": "@jupyter-widgets/controls",
      "model_module_version": "2.0.0",
      "model_name": "HBoxModel",
      "state": {
       "children": [
        "IPY_MODEL_ffc52f976f7041728989e16f3f323a54",
        "IPY_MODEL_78eda2fc675649a583df758f3174d6c4",
        "IPY_MODEL_e004472fd7f74de7ad1341fecb136474"
       ],
       "layout": "IPY_MODEL_cffd99de032f4b2192861ac8abb0aaf4"
      }
     },
     "c866846a07714e16a67e42c935f5bc21": {
      "model_module": "@jupyter-widgets/controls",
      "model_module_version": "2.0.0",
      "model_name": "HTMLModel",
      "state": {
       "layout": "IPY_MODEL_b288f2efbdfd4e189e1fcbecb613f45a",
       "style": "IPY_MODEL_33ca6fa5a4114e299667a32ba58b32fb",
       "value": " 21/21 [00:06&lt;00:00,  1.09s/it]"
      }
     },
     "c918b0f1f779463ea573559a079b999f": {
      "model_module": "@jupyter-widgets/controls",
      "model_module_version": "2.0.0",
      "model_name": "HTMLStyleModel",
      "state": {
       "description_width": "",
       "font_size": null,
       "text_color": null
      }
     },
     "c96070f9faaa42748250905b0e2781ed": {
      "model_module": "@jupyter-widgets/base",
      "model_module_version": "2.0.0",
      "model_name": "LayoutModel",
      "state": {}
     },
     "cffd99de032f4b2192861ac8abb0aaf4": {
      "model_module": "@jupyter-widgets/base",
      "model_module_version": "2.0.0",
      "model_name": "LayoutModel",
      "state": {}
     },
     "d1e4ef1182a9438390592067830fb3cd": {
      "model_module": "@jupyter-widgets/controls",
      "model_module_version": "2.0.0",
      "model_name": "FloatProgressModel",
      "state": {
       "layout": "IPY_MODEL_3b6f424831ba44079b3af1b6b8d26790",
       "max": 21,
       "style": "IPY_MODEL_5f42a8c8962c4e5f96a7348e7c4c08cf",
       "value": 12
      }
     },
     "e004472fd7f74de7ad1341fecb136474": {
      "model_module": "@jupyter-widgets/controls",
      "model_module_version": "2.0.0",
      "model_name": "HTMLModel",
      "state": {
       "layout": "IPY_MODEL_455129ec7d8f4dc780bad44b2d2f45b8",
       "style": "IPY_MODEL_976685ffb6a448a7b7d12aa77d280df8",
       "value": " 2/500 [00:14&lt;1:00:19,  7.27s/it]"
      }
     },
     "ebd4757a48fd411a91c41cddb711ed23": {
      "model_module": "@jupyter-widgets/base",
      "model_module_version": "2.0.0",
      "model_name": "LayoutModel",
      "state": {}
     },
     "eed7a66ea01e44a395faea503b02761c": {
      "model_module": "@jupyter-widgets/controls",
      "model_module_version": "2.0.0",
      "model_name": "HTMLStyleModel",
      "state": {
       "description_width": "",
       "font_size": null,
       "text_color": null
      }
     },
     "f375a5e4aa814fa5af224acf695262ac": {
      "model_module": "@jupyter-widgets/controls",
      "model_module_version": "2.0.0",
      "model_name": "HTMLModel",
      "state": {
       "layout": "IPY_MODEL_49e54b576d6248fb988fb7c57b5ea04f",
       "style": "IPY_MODEL_9f9ac609edb5481bae22cff150420ce1",
       "value": "Epoch2, t_l: 0.5480, v_l:9.5605: 100%"
      }
     },
     "f926f1b8e115448c92614d930d3c919b": {
      "model_module": "@jupyter-widgets/base",
      "model_module_version": "2.0.0",
      "model_name": "LayoutModel",
      "state": {}
     },
     "ffc52f976f7041728989e16f3f323a54": {
      "model_module": "@jupyter-widgets/controls",
      "model_module_version": "2.0.0",
      "model_name": "HTMLModel",
      "state": {
       "layout": "IPY_MODEL_2d2e827858684f928892f303eb973e0c",
       "style": "IPY_MODEL_187d53187c584afe81c0c9051445e9c7",
       "value": "  0%"
      }
     }
    },
    "version_major": 2,
    "version_minor": 0
   }
  }
 },
 "nbformat": 4,
 "nbformat_minor": 5
}
